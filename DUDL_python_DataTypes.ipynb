{
  "nbformat": 4,
  "nbformat_minor": 0,
  "metadata": {
    "kernelspec": {
      "display_name": "Python 3",
      "language": "python",
      "name": "python3"
    },
    "language_info": {
      "codemirror_mode": {
        "name": "ipython",
        "version": 3
      },
      "file_extension": ".py",
      "mimetype": "text/x-python",
      "name": "python",
      "nbconvert_exporter": "python",
      "pygments_lexer": "ipython3",
      "version": "3.7.3"
    },
    "colab": {
      "provenance": [],
      "collapsed_sections": [
        "6BiEBn0YL5mi",
        "SkAeODMlL5mi",
        "1Dvqf6g2L5nJ",
        "mmkfcnJVL5nN",
        "6H0ZmcnHL5n3",
        "GazmOLDGL5oN",
        "W1Zd8vcqL5oN",
        "aBiJ7Mv6L5ot",
        "4A_Io0qcL5o1",
        "yhLuxUWCL5o1",
        "6LXMsy5xL5pQ"
      ],
      "include_colab_link": true
    }
  },
  "cells": [
    {
      "cell_type": "markdown",
      "metadata": {
        "id": "view-in-github",
        "colab_type": "text"
      },
      "source": [
        "<a href=\"https://colab.research.google.com/github/drpetros11111/PythonLearning_Cohen/blob/Python-Basics/DUDL_python_DataTypes.ipynb\" target=\"_parent\"><img src=\"https://colab.research.google.com/assets/colab-badge.svg\" alt=\"Open In Colab\"/></a>"
      ]
    },
    {
      "cell_type": "markdown",
      "metadata": {
        "id": "tXkTLFPML5lw"
      },
      "source": [
        "# COURSE: A deep understanding of deep learning\n",
        "## SECTION: Introduction to Python: data types\n",
        "#### TEACHER: Mike X Cohen, sincxpress.com\n",
        "##### COURSE URL: udemy.com/course/deeplearning_x/?couponCode=202212"
      ]
    },
    {
      "cell_type": "markdown",
      "metadata": {
        "id": "HfeO5Ot9L5ly"
      },
      "source": [
        "# .\n",
        "# .\n",
        "# ."
      ]
    },
    {
      "cell_type": "markdown",
      "metadata": {
        "id": "YPyKIaUaL5lz"
      },
      "source": [
        "# VIDEO: Variables"
      ]
    },
    {
      "cell_type": "code",
      "metadata": {
        "id": "r37p-clGL5l0"
      },
      "source": [
        "# This is a comment. Python will ignore this text.\n"
      ],
      "execution_count": 1,
      "outputs": []
    },
    {
      "cell_type": "code",
      "metadata": {
        "id": "AKx0_OaAL5l5"
      },
      "source": [
        "a = 4\n",
        "b = 3"
      ],
      "execution_count": 3,
      "outputs": []
    },
    {
      "cell_type": "code",
      "metadata": {
        "id": "0_MYVQlIL5l-"
      },
      "source": [
        "a"
      ],
      "execution_count": null,
      "outputs": []
    },
    {
      "cell_type": "code",
      "metadata": {
        "id": "OBuRDO9cL5mB",
        "colab": {
          "base_uri": "https://localhost:8080/"
        },
        "outputId": "c6310010-791d-4e0c-b95d-03a06e00e409"
      },
      "source": [
        "a\n",
        "b"
      ],
      "execution_count": 4,
      "outputs": [
        {
          "output_type": "execute_result",
          "data": {
            "text/plain": [
              "3"
            ]
          },
          "metadata": {},
          "execution_count": 4
        }
      ]
    },
    {
      "cell_type": "code",
      "metadata": {
        "id": "4sQJyWk7L5mF",
        "colab": {
          "base_uri": "https://localhost:8080/"
        },
        "outputId": "bc5cbe60-62a5-4d00-87e8-1ad813436fa1"
      },
      "source": [
        "print(a) # comments after a line\n",
        "print(b)"
      ],
      "execution_count": 5,
      "outputs": [
        {
          "output_type": "stream",
          "name": "stdout",
          "text": [
            "4\n",
            "3\n"
          ]
        }
      ]
    },
    {
      "cell_type": "code",
      "metadata": {
        "id": "Asvc_OIzL5mJ",
        "colab": {
          "base_uri": "https://localhost:8080/"
        },
        "outputId": "85d2a54e-8bff-4b67-971b-ccbd466bb475"
      },
      "source": [
        "c = 7\n",
        "d = 7.0\n",
        "\n",
        "print(c,d)"
      ],
      "execution_count": 6,
      "outputs": [
        {
          "output_type": "stream",
          "name": "stdout",
          "text": [
            "7 7.0\n"
          ]
        }
      ]
    },
    {
      "cell_type": "code",
      "metadata": {
        "id": "vxyjNd-lL5mN",
        "colab": {
          "base_uri": "https://localhost:8080/"
        },
        "outputId": "a96d21d0-c9c6-4a8b-9828-205cfc1ddb43"
      },
      "source": [
        "type(c)\n",
        "type(d)"
      ],
      "execution_count": 7,
      "outputs": [
        {
          "output_type": "execute_result",
          "data": {
            "text/plain": [
              "float"
            ]
          },
          "metadata": {},
          "execution_count": 7
        }
      ]
    },
    {
      "cell_type": "code",
      "metadata": {
        "id": "MVUe32wSL5mR"
      },
      "source": [
        "c = 'hello'\n",
        "d = \"Hey there!\"\n"
      ],
      "execution_count": 8,
      "outputs": []
    },
    {
      "cell_type": "code",
      "metadata": {
        "id": "RJbge-ZfL5mU"
      },
      "source": [
        "# define variables and parameters\n",
        "aVariable    = 10\n",
        "filterOrder  = 2048\n",
        "user_name    = 'mike'\n",
        "param4modelA = 42.42\n",
        "\n",
        "not_allowed = 3\n",
        "also_not = 3\n",
        "nope_ = 3\n",
        "\n",
        "# variable naming rule: no non-alphanumeric characters except _\n",
        "# variables may contain numbers but not start with them\n"
      ],
      "execution_count": 11,
      "outputs": []
    },
    {
      "cell_type": "code",
      "metadata": {
        "id": "nfWfbV_RL5mX",
        "colab": {
          "base_uri": "https://localhost:8080/"
        },
        "outputId": "1057bbbd-3628-4e69-f549-66c7406d0445"
      },
      "source": [
        "%whos"
      ],
      "execution_count": 12,
      "outputs": [
        {
          "output_type": "stream",
          "name": "stdout",
          "text": [
            "Variable       Type     Data/Info\n",
            "---------------------------------\n",
            "a              int      4\n",
            "aVariable      int      10\n",
            "also_not       int      3\n",
            "b              int      3\n",
            "c              str      hello\n",
            "d              str      Hey there!\n",
            "filterOrder    int      2048\n",
            "nope_          int      3\n",
            "not_allowed    int      3\n",
            "param4modelA   float    42.42\n",
            "user_name      str      mike\n"
          ]
        }
      ]
    },
    {
      "cell_type": "code",
      "metadata": {
        "id": "Li7vhFiDL5ma",
        "colab": {
          "base_uri": "https://localhost:8080/"
        },
        "outputId": "27d4bbd7-c418-44fc-9a5c-b494ef5910fb"
      },
      "source": [
        "# multiple assignment\n",
        "varA,varB = 3,'test'\n",
        "\n",
        "print(varA)\n",
        "print(varB)"
      ],
      "execution_count": 13,
      "outputs": [
        {
          "output_type": "stream",
          "name": "stdout",
          "text": [
            "3\n",
            "test\n"
          ]
        }
      ]
    },
    {
      "cell_type": "markdown",
      "metadata": {
        "id": "Ej1_rmquL5me"
      },
      "source": [
        "### Exercise:"
      ]
    },
    {
      "cell_type": "code",
      "metadata": {
        "id": "leczgtwKL5me"
      },
      "source": [
        "# discover whether it's possible in Python to over-write variables:\n",
        "#  1) within-type (e.g., numeric to a different number)\n",
        "#  2) across-type (e.g., numeric to a string)"
      ],
      "execution_count": null,
      "outputs": []
    },
    {
      "cell_type": "markdown",
      "metadata": {
        "id": "6BiEBn0YL5mi"
      },
      "source": [
        "# .\n",
        "# .\n",
        "# ."
      ]
    },
    {
      "cell_type": "markdown",
      "metadata": {
        "id": "SkAeODMlL5mi"
      },
      "source": [
        "# VIDEO: Math operators"
      ]
    },
    {
      "cell_type": "code",
      "metadata": {
        "id": "dTFUO2NtL5mj"
      },
      "source": [
        "# let's start by creating some variables\n",
        "x = 7\n",
        "y = 4.1\n",
        "z = 0"
      ],
      "execution_count": 14,
      "outputs": []
    },
    {
      "cell_type": "code",
      "metadata": {
        "id": "c7pYa8VgL5mm",
        "colab": {
          "base_uri": "https://localhost:8080/"
        },
        "outputId": "6084dcea-816e-4c3a-cec6-4f8298bbe69f"
      },
      "source": [
        "# Addition and subtraction\n",
        "\n",
        "print( x-7 )\n",
        "\n",
        "c = y + x - 2"
      ],
      "execution_count": 15,
      "outputs": [
        {
          "output_type": "stream",
          "name": "stdout",
          "text": [
            "0\n"
          ]
        }
      ]
    },
    {
      "cell_type": "code",
      "metadata": {
        "id": "dA0Q2z3aL5mp",
        "colab": {
          "base_uri": "https://localhost:8080/"
        },
        "outputId": "b3084fe3-49a1-4d6b-90e0-7c07f6792b09"
      },
      "source": [
        "# multiplication and division\n",
        "print( x*y ) # note: floating-point algebra is not the same thing as \"real\" algebra\n",
        "4/3\n",
        "4\\\n",
        "  +3"
      ],
      "execution_count": 16,
      "outputs": [
        {
          "output_type": "stream",
          "name": "stdout",
          "text": [
            "28.699999999999996\n"
          ]
        },
        {
          "output_type": "execute_result",
          "data": {
            "text/plain": [
              "7"
            ]
          },
          "metadata": {},
          "execution_count": 16
        }
      ]
    },
    {
      "cell_type": "code",
      "metadata": {
        "id": "82K70Q7tL5mt",
        "colab": {
          "base_uri": "https://localhost:8080/"
        },
        "outputId": "63993c1c-010c-421b-d526-38af8e54b818"
      },
      "source": [
        "# powers\n",
        "2**3"
      ],
      "execution_count": 17,
      "outputs": [
        {
          "output_type": "execute_result",
          "data": {
            "text/plain": [
              "8"
            ]
          },
          "metadata": {},
          "execution_count": 17
        }
      ]
    },
    {
      "cell_type": "code",
      "metadata": {
        "id": "Y-ydNiArL5mw",
        "colab": {
          "base_uri": "https://localhost:8080/"
        },
        "outputId": "92f1ed00-2c4e-4d68-ede8-450d89e2c557"
      },
      "source": [
        "print( 9**1/2 )\n",
        "\n",
        "# therefore, use parentheses to overwrite order of operations\n",
        "print( 9**(1/2) )"
      ],
      "execution_count": 18,
      "outputs": [
        {
          "output_type": "stream",
          "name": "stdout",
          "text": [
            "4.5\n",
            "3.0\n"
          ]
        }
      ]
    },
    {
      "cell_type": "code",
      "metadata": {
        "id": "yLsz8DvbL5m0",
        "colab": {
          "base_uri": "https://localhost:8080/"
        },
        "outputId": "68fb41ea-25d1-4c0b-8d7a-9525ebd60b87"
      },
      "source": [
        "# can we \"add\" strings??\n",
        "firstName = 'Mike'\n",
        "lastName  = 'Cohen'\n",
        "\n",
        "print( firstName + lastName )\n",
        "print( firstName + ' ' + lastName )"
      ],
      "execution_count": 19,
      "outputs": [
        {
          "output_type": "stream",
          "name": "stdout",
          "text": [
            "MikeCohen\n",
            "Mike Cohen\n"
          ]
        }
      ]
    },
    {
      "cell_type": "code",
      "metadata": {
        "id": "w7FKwxhtL5m2",
        "colab": {
          "base_uri": "https://localhost:8080/",
          "height": 158
        },
        "outputId": "91c6d573-12e1-47e0-c36b-7f9782263b98"
      },
      "source": [
        "# just curious...\n",
        "firstName - lastName"
      ],
      "execution_count": 20,
      "outputs": [
        {
          "output_type": "error",
          "ename": "TypeError",
          "evalue": "unsupported operand type(s) for -: 'str' and 'str'",
          "traceback": [
            "\u001b[0;31m---------------------------------------------------------------------------\u001b[0m",
            "\u001b[0;31mTypeError\u001b[0m                                 Traceback (most recent call last)",
            "\u001b[0;32m<ipython-input-20-bfa6ffd7587f>\u001b[0m in \u001b[0;36m<cell line: 2>\u001b[0;34m()\u001b[0m\n\u001b[1;32m      1\u001b[0m \u001b[0;31m# just curious...\u001b[0m\u001b[0;34m\u001b[0m\u001b[0;34m\u001b[0m\u001b[0m\n\u001b[0;32m----> 2\u001b[0;31m \u001b[0mfirstName\u001b[0m \u001b[0;34m-\u001b[0m \u001b[0mlastName\u001b[0m\u001b[0;34m\u001b[0m\u001b[0;34m\u001b[0m\u001b[0m\n\u001b[0m",
            "\u001b[0;31mTypeError\u001b[0m: unsupported operand type(s) for -: 'str' and 'str'"
          ]
        }
      ]
    },
    {
      "source": [
        "# trying to subtract strings will cause an error\n",
        "#firstName - lastName\n",
        "\n",
        "# You could instead replace parts of the string with the String.replace() method\n",
        "firstName.replace('Mike','')"
      ],
      "cell_type": "code",
      "metadata": {
        "colab": {
          "base_uri": "https://localhost:8080/",
          "height": 35
        },
        "id": "vUcLNn8RPWI2",
        "outputId": "4b16c698-d6c1-4039-cb1d-e856c00bdcce"
      },
      "execution_count": 21,
      "outputs": [
        {
          "output_type": "execute_result",
          "data": {
            "text/plain": [
              "''"
            ],
            "application/vnd.google.colaboratory.intrinsic+json": {
              "type": "string"
            }
          },
          "metadata": {},
          "execution_count": 21
        }
      ]
    },
    {
      "cell_type": "code",
      "source": [],
      "metadata": {
        "id": "dZ9k5G7-Pi7a"
      },
      "execution_count": null,
      "outputs": []
    },
    {
      "cell_type": "code",
      "metadata": {
        "id": "23yC4t2_L5m5",
        "colab": {
          "base_uri": "https://localhost:8080/",
          "height": 35
        },
        "outputId": "8111de8d-b1e4-45d1-f25a-8ef56a9e31ad"
      },
      "source": [
        "firstName * 3"
      ],
      "execution_count": 22,
      "outputs": [
        {
          "output_type": "execute_result",
          "data": {
            "text/plain": [
              "'MikeMikeMike'"
            ],
            "application/vnd.google.colaboratory.intrinsic+json": {
              "type": "string"
            }
          },
          "metadata": {},
          "execution_count": 22
        }
      ]
    },
    {
      "cell_type": "code",
      "metadata": {
        "id": "tzmXfSXPL5m8",
        "colab": {
          "base_uri": "https://localhost:8080/"
        },
        "outputId": "6ec19cdc-7bae-498c-a926-0e1d422730d0"
      },
      "source": [
        "# printing mixed variable types\n",
        "print( '7 times 4.1 equals 28.7' )\n",
        "\n",
        "print( str(x) + ' times ' + str(y) + ' equals ' + str(x*y) )"
      ],
      "execution_count": 24,
      "outputs": [
        {
          "output_type": "stream",
          "name": "stdout",
          "text": [
            "7 times 4.1 equals 28.7\n",
            "7 times 4.1 equals 28.699999999999996\n"
          ]
        }
      ]
    },
    {
      "cell_type": "markdown",
      "source": [
        "# Automatic casting of strings into floats\n",
        "This code performs a more dynamic operation where it prints a combination of variables and text. Here's what happens step by step:\n",
        "\n",
        "----------------------\n",
        "## Variables\n",
        "\n",
        "x and y are variables.\n",
        "\n",
        "In this case, they are assumed to contain numerical values (e.g., x = 7 and y = 4.1).\n",
        "\n",
        "--------------\n",
        "## String Conversion\n",
        "\n",
        "str(x): Converts the value of x to a string.\n",
        "\n",
        "str(y): Converts the value of y to a string.\n",
        "\n",
        "str(x * y): Multiplies x and y, then converts the result to a string.\n",
        "\n",
        "--------------------------\n",
        "##String Concatenation:\n",
        "\n",
        "The + operator is used to concatenate (join) strings together.\n",
        "\n",
        "In this case, it's joining the text ' times ', ' equals ', and the string\n",
        "representations of x, y, and their product.\n",
        "\n",
        "-------------------\n",
        "#Example:\n",
        "\n",
        "If x = 7 and y = 4.1, the following happens:\n",
        "\n",
        "    str(x) becomes '7'\n",
        "    str(y) becomes '4.1'\n",
        "\n",
        "x * y becomes 28.7, and str(x * y) becomes '28.7'.\n",
        "\n",
        "So the final string passed to print() would be:\n",
        "\n",
        "    '7 times 4.1 equals 28.7'\n",
        "\n",
        "--------------------\n",
        "#Summary\n",
        "First print statement: Outputs a predefined string.\n",
        "\n",
        "Second print statement: Dynamically converts variables of different types (like numbers) into strings, then concatenates them with text and prints the result.\n",
        "\n",
        "This technique is useful when you need to format output that includes both text and variables."
      ],
      "metadata": {
        "id": "Uz4x8N1NPzIU"
      }
    },
    {
      "cell_type": "code",
      "metadata": {
        "id": "YPTvrSWfL5m-",
        "colab": {
          "base_uri": "https://localhost:8080/"
        },
        "outputId": "4357b573-8f3d-4ed3-e0ef-bb5494d2257a"
      },
      "source": [
        "print( str(x) + ' times ' + str(y) + ' equals ' + str(x*y) )"
      ],
      "execution_count": 25,
      "outputs": [
        {
          "output_type": "stream",
          "name": "stdout",
          "text": [
            "7 times 4.1 equals 28.699999999999996\n"
          ]
        }
      ]
    },
    {
      "cell_type": "code",
      "metadata": {
        "id": "LotosUYdL5nB",
        "colab": {
          "base_uri": "https://localhost:8080/"
        },
        "outputId": "0f207dff-69be-4eea-fac5-13eeeece8886"
      },
      "source": [
        "# inputting data from the user\n",
        "ans = input('Feed me a stray cat ')\n",
        "print(ans)\n",
        "print(type(ans))"
      ],
      "execution_count": 26,
      "outputs": [
        {
          "output_type": "stream",
          "name": "stdout",
          "text": [
            "Feed me a stray cat pupa\n",
            "pupa\n",
            "<class 'str'>\n"
          ]
        }
      ]
    },
    {
      "cell_type": "code",
      "metadata": {
        "id": "Ecwi9eqYL5nE",
        "colab": {
          "base_uri": "https://localhost:8080/",
          "height": 35
        },
        "outputId": "fa5d777f-afa3-4a7b-f5ef-f0b067666082"
      },
      "source": [
        "ans*10\n",
        "\n"
      ],
      "execution_count": 27,
      "outputs": [
        {
          "output_type": "execute_result",
          "data": {
            "text/plain": [
              "'pupapupapupapupapupapupapupapupapupapupa'"
            ],
            "application/vnd.google.colaboratory.intrinsic+json": {
              "type": "string"
            }
          },
          "metadata": {},
          "execution_count": 27
        }
      ]
    },
    {
      "cell_type": "code",
      "metadata": {
        "id": "Hi6yzEr9L5nG",
        "colab": {
          "base_uri": "https://localhost:8080/"
        },
        "outputId": "e87bcecd-4fa2-4ad6-b345-c75c0d37a245"
      },
      "source": [
        "numans = input( 'Input a number: ' )\n",
        "numans = float(numans)\n",
        "\n",
        "type(numans)"
      ],
      "execution_count": 28,
      "outputs": [
        {
          "name": "stdout",
          "output_type": "stream",
          "text": [
            "Input a number: 12\n"
          ]
        },
        {
          "output_type": "execute_result",
          "data": {
            "text/plain": [
              "float"
            ]
          },
          "metadata": {},
          "execution_count": 28
        }
      ]
    },
    {
      "cell_type": "markdown",
      "metadata": {
        "id": "1Dvqf6g2L5nJ"
      },
      "source": [
        "### Exercise"
      ]
    },
    {
      "cell_type": "code",
      "metadata": {
        "id": "uAqWvck7L5nK",
        "colab": {
          "base_uri": "https://localhost:8080/"
        },
        "outputId": "1ad1795e-5443-4340-89cf-09a28e15a50d"
      },
      "source": [
        "# The goal is to apply the Pythagorean theorem.\n",
        "#  Input from the user two lengths, and you return the third length\n",
        "side1 = int( input('Length of side a: ') )\n",
        "side2 = int( input('Length of side b: ') )\n",
        "\n",
        "thirdside = (side1**2 + side2**2)**(1/2)\n",
        "\n",
        "print(' ')\n",
        "print( 'The length of side c is ' + str( thirdside ) )"
      ],
      "execution_count": 30,
      "outputs": [
        {
          "output_type": "stream",
          "name": "stdout",
          "text": [
            "Length of side a: 12\n",
            "Length of side b: 10\n",
            " \n",
            "The length of side c is 15.620499351813308\n"
          ]
        }
      ]
    },
    {
      "cell_type": "markdown",
      "metadata": {
        "id": "mmkfcnJVL5nN"
      },
      "source": [
        "# .\n",
        "# .\n",
        "# ."
      ]
    },
    {
      "cell_type": "markdown",
      "metadata": {
        "id": "1KustwXXL5nO"
      },
      "source": [
        "# VIDEO: Lists"
      ]
    },
    {
      "cell_type": "code",
      "metadata": {
        "id": "07d-roE_L5nO",
        "colab": {
          "base_uri": "https://localhost:8080/"
        },
        "outputId": "db2dbb6c-0c59-42a5-9171-f2457674f35f"
      },
      "source": [
        "aList = [0,1,2,3,4,5]\n",
        "\n",
        "aList"
      ],
      "execution_count": 31,
      "outputs": [
        {
          "output_type": "execute_result",
          "data": {
            "text/plain": [
              "[0, 1, 2, 3, 4, 5]"
            ]
          },
          "metadata": {},
          "execution_count": 31
        }
      ]
    },
    {
      "cell_type": "code",
      "metadata": {
        "id": "lnRylwNYL5nW",
        "colab": {
          "base_uri": "https://localhost:8080/"
        },
        "outputId": "8eb0968a-85f2-43e8-a878-1a5b2a73e44d"
      },
      "source": [
        "strList = [ 'hi','my','name','is','Mike' ]\n",
        "strList"
      ],
      "execution_count": 32,
      "outputs": [
        {
          "output_type": "execute_result",
          "data": {
            "text/plain": [
              "['hi', 'my', 'name', 'is', 'Mike']"
            ]
          },
          "metadata": {},
          "execution_count": 32
        }
      ]
    },
    {
      "cell_type": "code",
      "metadata": {
        "id": "15sb3LOiL5nZ",
        "colab": {
          "base_uri": "https://localhost:8080/"
        },
        "outputId": "aad98471-234a-47c3-c9dd-244db4f3a55d"
      },
      "source": [
        "mixList = [ 3,'three',4,'four' ]\n",
        "mixList"
      ],
      "execution_count": 33,
      "outputs": [
        {
          "output_type": "execute_result",
          "data": {
            "text/plain": [
              "[3, 'three', 4, 'four']"
            ]
          },
          "metadata": {},
          "execution_count": 33
        }
      ]
    },
    {
      "cell_type": "code",
      "metadata": {
        "id": "iipXRCscL5nd",
        "colab": {
          "base_uri": "https://localhost:8080/"
        },
        "outputId": "de6b4836-1e60-4cbf-f1a7-c2445f4f4199"
      },
      "source": [
        "listList = [ 3,['3','4','5'],5,[4,5,6] ]\n",
        "listList"
      ],
      "execution_count": 34,
      "outputs": [
        {
          "output_type": "execute_result",
          "data": {
            "text/plain": [
              "[3, ['3', '4', '5'], 5, [4, 5, 6]]"
            ]
          },
          "metadata": {},
          "execution_count": 34
        }
      ]
    },
    {
      "cell_type": "code",
      "metadata": {
        "id": "2qTgUlHBL5ng",
        "colab": {
          "base_uri": "https://localhost:8080/"
        },
        "outputId": "4f95e6e0-3c61-4d9e-d70e-3639765a9c07"
      },
      "source": [
        "listList = [\n",
        "            3,              # a number\n",
        "            ['3','h','5'],  # a list of strings\n",
        "            5,              # another number\n",
        "            [4,5,6]         # a list of numbers\n",
        "           ]\n",
        "\n",
        "listList"
      ],
      "execution_count": 35,
      "outputs": [
        {
          "output_type": "execute_result",
          "data": {
            "text/plain": [
              "[3, ['3', 'h', '5'], 5, [4, 5, 6]]"
            ]
          },
          "metadata": {},
          "execution_count": 35
        }
      ]
    },
    {
      "cell_type": "code",
      "metadata": {
        "id": "iRZBZUOnL5nj",
        "colab": {
          "base_uri": "https://localhost:8080/"
        },
        "outputId": "e6f4d8b3-93f3-432a-ecc7-ffc8e3cfb293"
      },
      "source": [
        "# test whether an item is in a list\n",
        "4 in aList"
      ],
      "execution_count": 36,
      "outputs": [
        {
          "output_type": "execute_result",
          "data": {
            "text/plain": [
              "True"
            ]
          },
          "metadata": {},
          "execution_count": 36
        }
      ]
    },
    {
      "cell_type": "code",
      "metadata": {
        "id": "ydqKSILIL5nm",
        "colab": {
          "base_uri": "https://localhost:8080/"
        },
        "outputId": "5009db90-981c-4cdb-c3a5-1576660397b3"
      },
      "source": [
        "print( 4 in aList )\n",
        "\n",
        "print( 14 in aList )\n",
        "print( 14 not in aList )"
      ],
      "execution_count": 37,
      "outputs": [
        {
          "output_type": "stream",
          "name": "stdout",
          "text": [
            "True\n",
            "False\n",
            "True\n"
          ]
        }
      ]
    },
    {
      "cell_type": "code",
      "metadata": {
        "id": "cfooFoReL5np",
        "colab": {
          "base_uri": "https://localhost:8080/"
        },
        "outputId": "c871fc2f-e3ce-452c-b581-abbc19619676"
      },
      "source": [
        "aList + strList"
      ],
      "execution_count": 38,
      "outputs": [
        {
          "output_type": "execute_result",
          "data": {
            "text/plain": [
              "[0, 1, 2, 3, 4, 5, 'hi', 'my', 'name', 'is', 'Mike']"
            ]
          },
          "metadata": {},
          "execution_count": 38
        }
      ]
    },
    {
      "cell_type": "code",
      "metadata": {
        "id": "g5xmWdGfL5nr",
        "colab": {
          "base_uri": "https://localhost:8080/"
        },
        "outputId": "a101135f-2d50-46a6-89ae-b10b10d93eef"
      },
      "source": [
        "aList*3\n"
      ],
      "execution_count": 39,
      "outputs": [
        {
          "output_type": "execute_result",
          "data": {
            "text/plain": [
              "[0, 1, 2, 3, 4, 5, 0, 1, 2, 3, 4, 5, 0, 1, 2, 3, 4, 5]"
            ]
          },
          "metadata": {},
          "execution_count": 39
        }
      ]
    },
    {
      "cell_type": "markdown",
      "source": [
        "# Set Conversion\n",
        "\n",
        "----------------\n",
        "    set(newlist)\n",
        "\n",
        "converts newlist into a set.\n",
        "\n",
        "A set is an unordered collection of unique elements in Python.\n",
        "\n",
        "##When you convert a list into a set, Python automatically removes all duplicate values and only keeps one instance of each unique element.\n",
        "\n",
        "----------------------\n",
        "#Result\n",
        "\n",
        "The set created from newlist will be:\n",
        "\n",
        "    {3, 4, 5, 6, 7}\n",
        "\n",
        "------------------\n",
        "#Duplicates removed:\n",
        "\n",
        "The repeated 4s and 7s are reduced to a single instance each.\n",
        "\n",
        "##Unordered:\n",
        "\n",
        "Sets are unordered collections, so the elements may not appear in the same order as they were in the original list.\n",
        "\n",
        "-------------------\n",
        "##Important Points:\n",
        "List: [4, 3, 4, 5, 6, 7, 7, 7, 7] allows duplicates.\n",
        "\n",
        "Set: {3, 4, 5, 6, 7} is unordered and contains only unique elements.\n",
        "\n",
        "------------------\n",
        "#Example Usage:\n",
        "You might use set() to eliminate duplicates from a list when only unique items are needed.\n",
        "\n",
        "    unique_values = set(newlist)\n",
        "   print(unique_values)  # Output: {3, 4, 5, 6, 7}"
      ],
      "metadata": {
        "id": "mABFU7PZTjqc"
      }
    },
    {
      "cell_type": "code",
      "metadata": {
        "id": "tRIv014_L5nx",
        "colab": {
          "base_uri": "https://localhost:8080/"
        },
        "outputId": "2fd2d95a-f088-46fc-8bf9-5ebaa0c2bd1b"
      },
      "source": [
        "## some list methods\n",
        "\n",
        "# show the original\n",
        "print(aList)\n",
        "\n",
        "# add a new element\n",
        "aList.append(-100)\n",
        "print(aList)\n",
        "\n",
        "# sort\n",
        "aList.sort()\n",
        "print(aList)"
      ],
      "execution_count": 42,
      "outputs": [
        {
          "output_type": "stream",
          "name": "stdout",
          "text": [
            "[0, 1, 2, 3, 4, 5]\n",
            "[0, 1, 2, 3, 4, 5, -100]\n",
            "[-100, 0, 1, 2, 3, 4, 5]\n"
          ]
        }
      ]
    },
    {
      "cell_type": "markdown",
      "metadata": {
        "id": "dY5qZx9PL5n0"
      },
      "source": [
        "### Exercise"
      ]
    },
    {
      "cell_type": "code",
      "metadata": {
        "id": "J_QFhQcjL5n0",
        "colab": {
          "base_uri": "https://localhost:8080/"
        },
        "outputId": "3a0e3136-75ec-4d03-f63a-1c1b7bf7b4fc"
      },
      "source": [
        "# Use a list method to find the number of 7's in newlist\n",
        "newlist.count(7)"
      ],
      "execution_count": 43,
      "outputs": [
        {
          "output_type": "execute_result",
          "data": {
            "text/plain": [
              "4"
            ]
          },
          "metadata": {},
          "execution_count": 43
        }
      ]
    },
    {
      "cell_type": "markdown",
      "metadata": {
        "id": "CZNFhClDL5n3"
      },
      "source": [
        "# .\n",
        "# .\n",
        "# ."
      ]
    },
    {
      "cell_type": "markdown",
      "metadata": {
        "id": "Kqyz_ZK9x-B3"
      },
      "source": [
        "# VIDEO: Lists part 2"
      ]
    },
    {
      "cell_type": "code",
      "metadata": {
        "id": "MVVIFB9-yAOs",
        "colab": {
          "base_uri": "https://localhost:8080/"
        },
        "outputId": "62e0968c-ac95-4040-bac7-9b29475926c8"
      },
      "source": [
        "# append, insert, remove, del, sort\n",
        "\n",
        "lst = [1,2,3,4,5]\n",
        "\n",
        "print(lst)\n",
        "lst.append(7)\n",
        "print(lst)\n"
      ],
      "execution_count": 44,
      "outputs": [
        {
          "output_type": "stream",
          "name": "stdout",
          "text": [
            "[1, 2, 3, 4, 5]\n",
            "[1, 2, 3, 4, 5, 7]\n"
          ]
        }
      ]
    },
    {
      "cell_type": "code",
      "metadata": {
        "id": "-xy0ERexyiIN",
        "colab": {
          "base_uri": "https://localhost:8080/"
        },
        "outputId": "49511e83-31f5-4fa2-9622-3141d79276fb"
      },
      "source": [
        "lst.insert(2,20)\n",
        "print(lst)"
      ],
      "execution_count": 45,
      "outputs": [
        {
          "output_type": "stream",
          "name": "stdout",
          "text": [
            "[1, 2, 20, 3, 4, 5, 7]\n"
          ]
        }
      ]
    },
    {
      "cell_type": "markdown",
      "source": [
        "# Insert in a List\n",
        "    lst.insert(2, 20):\n",
        "\n",
        "-----------------------\n",
        "##lst:\n",
        "\n",
        "This is the list you're working with (which is not explicitly provided in the code snippet).\n",
        "\n",
        "-----------------\n",
        "##.insert(2, 20):\n",
        "\n",
        "The insert() method takes two arguments:\n",
        "\n",
        "----------------\n",
        "##2:\n",
        "\n",
        "This is the index where you want to insert the new value.\n",
        "\n",
        "List indices in Python are zero-based, so 2 refers to the third position in the list.\n",
        "20: This is the value you want to insert at the specified index.\n",
        "\n",
        "----------------\n",
        "##Effect:\n",
        "\n",
        "The value 20 will be inserted into the list at index 2, shifting the elements that are currently at index 2 and beyond one position to the right.\n",
        "\n",
        "--------------------\n",
        "##Example:\n",
        "\n",
        "Suppose lst initially contains:\n",
        "\n",
        "    lst = [10, 30, 40, 50]\n",
        "\n",
        "After calling lst.insert(2, 20), the list will become:\n",
        "\n",
        "    [10, 30, 20, 40, 50]\n",
        "\n",
        "The value 20 is inserted at index 2, between 30 and 40.\n",
        "print(lst):\n",
        "\n",
        "This will output the modified list to show the result after the insertion.\n",
        "\n",
        "----------------\n",
        "#Summary\n",
        "insert(index, value) adds the value to the specified index of the list.\n",
        "\n",
        "Elements already present at or after the given index are shifted right to accommodate the new value.\n",
        "\n",
        "After the insertion, calling print(lst) will display the updated list.\n",
        "\n",
        "If you provide the initial content of lst, I can show you the exact result after insertion."
      ],
      "metadata": {
        "id": "q7HLyuP1X9A4"
      }
    },
    {
      "cell_type": "code",
      "metadata": {
        "id": "_i1tF15nzIFL",
        "colab": {
          "base_uri": "https://localhost:8080/",
          "height": 52
        },
        "outputId": "e39f7be7-4489-4a85-e5ed-7127421ea7ee"
      },
      "source": [
        "lst.append(3)\n",
        "print(lst)\n",
        "lst.remove(3)\n",
        "print(lst)"
      ],
      "execution_count": null,
      "outputs": [
        {
          "output_type": "stream",
          "text": [
            "[1, 2, 20, 3, 4, 5, 7, 3]\n",
            "[1, 2, 20, 4, 5, 7, 3]\n"
          ],
          "name": "stdout"
        }
      ]
    },
    {
      "cell_type": "code",
      "metadata": {
        "id": "UKrnY71GzNrB",
        "colab": {
          "base_uri": "https://localhost:8080/"
        },
        "outputId": "d3094fe5-e074-4501-d8e3-8dea9245f8bc"
      },
      "source": [
        "print(lst)\n",
        "\n",
        "lst.sort()\n",
        "print(lst)\n",
        "\n",
        "lst.sort(reverse=True)\n",
        "print(lst)"
      ],
      "execution_count": 46,
      "outputs": [
        {
          "output_type": "stream",
          "name": "stdout",
          "text": [
            "[1, 2, 20, 3, 4, 5, 7]\n",
            "[1, 2, 3, 4, 5, 7, 20]\n",
            "[20, 7, 5, 4, 3, 2, 1]\n"
          ]
        }
      ]
    },
    {
      "cell_type": "code",
      "metadata": {
        "id": "N3I__z2e0Z3e",
        "colab": {
          "base_uri": "https://localhost:8080/",
          "height": 158
        },
        "outputId": "be1f6478-995b-431a-adb1-6ae561e42765"
      },
      "source": [
        "lst.append('hi')\n",
        "lst.sort()"
      ],
      "execution_count": 47,
      "outputs": [
        {
          "output_type": "error",
          "ename": "TypeError",
          "evalue": "'<' not supported between instances of 'str' and 'int'",
          "traceback": [
            "\u001b[0;31m---------------------------------------------------------------------------\u001b[0m",
            "\u001b[0;31mTypeError\u001b[0m                                 Traceback (most recent call last)",
            "\u001b[0;32m<ipython-input-47-00d580f6a026>\u001b[0m in \u001b[0;36m<cell line: 2>\u001b[0;34m()\u001b[0m\n\u001b[1;32m      1\u001b[0m \u001b[0mlst\u001b[0m\u001b[0;34m.\u001b[0m\u001b[0mappend\u001b[0m\u001b[0;34m(\u001b[0m\u001b[0;34m'hi'\u001b[0m\u001b[0;34m)\u001b[0m\u001b[0;34m\u001b[0m\u001b[0;34m\u001b[0m\u001b[0m\n\u001b[0;32m----> 2\u001b[0;31m \u001b[0mlst\u001b[0m\u001b[0;34m.\u001b[0m\u001b[0msort\u001b[0m\u001b[0;34m(\u001b[0m\u001b[0;34m)\u001b[0m\u001b[0;34m\u001b[0m\u001b[0;34m\u001b[0m\u001b[0m\n\u001b[0m",
            "\u001b[0;31mTypeError\u001b[0m: '<' not supported between instances of 'str' and 'int'"
          ]
        }
      ]
    },
    {
      "source": [
        "lst = [20, 7, 5, 4, 3, 2, 1, 'hi'] # This is your current list based on the global variables\n",
        "\n",
        "# Convert all elements to strings to allow sorting\n",
        "lst = [str(x) for x in lst]\n",
        "\n",
        "lst.sort() # Now this will work as expected\n",
        "print(lst)"
      ],
      "cell_type": "code",
      "metadata": {
        "colab": {
          "base_uri": "https://localhost:8080/"
        },
        "id": "5KJllsG6ZOe8",
        "outputId": "9cc269e1-085f-414e-b2fc-c6f2cc3d307d"
      },
      "execution_count": 49,
      "outputs": [
        {
          "output_type": "stream",
          "name": "stdout",
          "text": [
            "['1', '2', '20', '3', '4', '5', '7', 'hi']\n"
          ]
        }
      ]
    },
    {
      "cell_type": "markdown",
      "metadata": {
        "id": "6H0ZmcnHL5n3"
      },
      "source": [
        "# VIDEO: Tuples"
      ]
    },
    {
      "cell_type": "code",
      "metadata": {
        "id": "2gUCfHd9L5n4",
        "colab": {
          "base_uri": "https://localhost:8080/"
        },
        "outputId": "438a0825-7dea-4e97-e1a6-de458cf5eae0"
      },
      "source": [
        "atuple = ( 3,'4',3 )\n",
        "\n",
        "atuple*3"
      ],
      "execution_count": 50,
      "outputs": [
        {
          "output_type": "execute_result",
          "data": {
            "text/plain": [
              "(3, '4', 3, 3, '4', 3, 3, '4', 3)"
            ]
          },
          "metadata": {},
          "execution_count": 50
        }
      ]
    },
    {
      "cell_type": "code",
      "metadata": {
        "id": "MWObZggSL5n9",
        "colab": {
          "base_uri": "https://localhost:8080/"
        },
        "outputId": "4b08b03b-8436-4018-efbe-5c119bd04a13"
      },
      "source": [
        "atuple.count(3)"
      ],
      "execution_count": 51,
      "outputs": [
        {
          "output_type": "execute_result",
          "data": {
            "text/plain": [
              "2"
            ]
          },
          "metadata": {},
          "execution_count": 51
        }
      ]
    },
    {
      "cell_type": "code",
      "metadata": {
        "id": "6e_V_6zUL5oB",
        "colab": {
          "base_uri": "https://localhost:8080/"
        },
        "outputId": "baabdf91-b05e-40e1-de38-555ecca147e4"
      },
      "source": [
        "alist = list(atuple)\n",
        "\n",
        "print(atuple)\n",
        "print(alist)"
      ],
      "execution_count": 52,
      "outputs": [
        {
          "output_type": "stream",
          "name": "stdout",
          "text": [
            "(3, '4', 3)\n",
            "[3, '4', 3]\n"
          ]
        }
      ]
    },
    {
      "cell_type": "code",
      "metadata": {
        "id": "XN68JueNL5oE",
        "colab": {
          "base_uri": "https://localhost:8080/",
          "height": 158
        },
        "outputId": "f3edf11e-3597-429d-ea97-ed2a1f99512c"
      },
      "source": [
        "# tuples are immutable\n",
        "atuple[0] = 5"
      ],
      "execution_count": 53,
      "outputs": [
        {
          "output_type": "error",
          "ename": "TypeError",
          "evalue": "'tuple' object does not support item assignment",
          "traceback": [
            "\u001b[0;31m---------------------------------------------------------------------------\u001b[0m",
            "\u001b[0;31mTypeError\u001b[0m                                 Traceback (most recent call last)",
            "\u001b[0;32m<ipython-input-53-7656f02e8d5c>\u001b[0m in \u001b[0;36m<cell line: 2>\u001b[0;34m()\u001b[0m\n\u001b[1;32m      1\u001b[0m \u001b[0;31m# tuples are immutable\u001b[0m\u001b[0;34m\u001b[0m\u001b[0;34m\u001b[0m\u001b[0m\n\u001b[0;32m----> 2\u001b[0;31m \u001b[0matuple\u001b[0m\u001b[0;34m[\u001b[0m\u001b[0;36m0\u001b[0m\u001b[0;34m]\u001b[0m \u001b[0;34m=\u001b[0m \u001b[0;36m5\u001b[0m\u001b[0;34m\u001b[0m\u001b[0;34m\u001b[0m\u001b[0m\n\u001b[0m",
            "\u001b[0;31mTypeError\u001b[0m: 'tuple' object does not support item assignment"
          ]
        }
      ]
    },
    {
      "cell_type": "code",
      "metadata": {
        "id": "aaecbwSjL5oJ",
        "colab": {
          "base_uri": "https://localhost:8080/"
        },
        "outputId": "c4e8e321-eee6-4ec4-9911-ecbe8523c8ff"
      },
      "source": [
        "# lists are mutable\n",
        "alist[0] = 5\n",
        "alist"
      ],
      "execution_count": 54,
      "outputs": [
        {
          "output_type": "execute_result",
          "data": {
            "text/plain": [
              "[5, '4', 3]"
            ]
          },
          "metadata": {},
          "execution_count": 54
        }
      ]
    },
    {
      "cell_type": "markdown",
      "metadata": {
        "id": "GazmOLDGL5oN"
      },
      "source": [
        "# .\n",
        "# .\n",
        "# ."
      ]
    },
    {
      "cell_type": "markdown",
      "metadata": {
        "id": "W1Zd8vcqL5oN"
      },
      "source": [
        "# VIDEO: Booleans"
      ]
    },
    {
      "cell_type": "code",
      "metadata": {
        "id": "K08ahsscL5oO",
        "colab": {
          "base_uri": "https://localhost:8080/"
        },
        "outputId": "d9904c8c-c716-4339-b6a1-8ea4b8d5273c"
      },
      "source": [
        "boolTrue = True\n",
        "booltrue = 'true'\n",
        "\n",
        "%whos"
      ],
      "execution_count": 55,
      "outputs": [
        {
          "output_type": "stream",
          "name": "stdout",
          "text": [
            "Variable       Type     Data/Info\n",
            "---------------------------------\n",
            "a              int      4\n",
            "aList          list     n=7\n",
            "aVariable      int      10\n",
            "alist          list     n=3\n",
            "also_not       int      3\n",
            "ans            str      pupa\n",
            "atuple         tuple    n=3\n",
            "b              int      3\n",
            "boolTrue       bool     True\n",
            "booltrue       str      true\n",
            "c              float    9.1\n",
            "d              str      Hey there!\n",
            "filterOrder    int      2048\n",
            "firstName      str      Mike\n",
            "lastName       str      Cohen\n",
            "listList       list     n=4\n",
            "lst            list     n=8\n",
            "mixList        list     n=4\n",
            "newlist        list     n=9\n",
            "nope_          int      3\n",
            "not_allowed    int      3\n",
            "numans         float    12.0\n",
            "param4modelA   float    42.42\n",
            "side1          int      12\n",
            "side2          int      10\n",
            "strList        list     n=5\n",
            "thirdside      float    15.620499351813308\n",
            "user_name      str      mike\n",
            "varA           int      3\n",
            "varB           str      test\n",
            "x              int      7\n",
            "y              float    4.1\n",
            "z              int      0\n"
          ]
        }
      ]
    },
    {
      "cell_type": "code",
      "metadata": {
        "id": "G7jS93EuL5oQ",
        "colab": {
          "base_uri": "https://localhost:8080/"
        },
        "outputId": "cf8b4b73-3361-4338-c812-d3a0b1fa6d4b"
      },
      "source": [
        "# comparisons\n",
        "4 == 4"
      ],
      "execution_count": 56,
      "outputs": [
        {
          "output_type": "execute_result",
          "data": {
            "text/plain": [
              "True"
            ]
          },
          "metadata": {},
          "execution_count": 56
        }
      ]
    },
    {
      "cell_type": "code",
      "metadata": {
        "id": "Ox4SqjQZL5oU",
        "colab": {
          "base_uri": "https://localhost:8080/"
        },
        "outputId": "9a9c8f72-b4e0-49e3-9ab2-ddb03c79a9c6"
      },
      "source": [
        "4>5"
      ],
      "execution_count": 57,
      "outputs": [
        {
          "output_type": "execute_result",
          "data": {
            "text/plain": [
              "False"
            ]
          },
          "metadata": {},
          "execution_count": 57
        }
      ]
    },
    {
      "cell_type": "code",
      "metadata": {
        "id": "eC955ZP6L5oW",
        "colab": {
          "base_uri": "https://localhost:8080/"
        },
        "outputId": "056b8dfa-8d08-435b-def8-f0afda55be04"
      },
      "source": [
        "4>4"
      ],
      "execution_count": 58,
      "outputs": [
        {
          "output_type": "execute_result",
          "data": {
            "text/plain": [
              "False"
            ]
          },
          "metadata": {},
          "execution_count": 58
        }
      ]
    },
    {
      "cell_type": "code",
      "metadata": {
        "id": "FAxY-dN4L5oZ",
        "colab": {
          "base_uri": "https://localhost:8080/"
        },
        "outputId": "9c93b547-060c-4338-e76d-ad69394a9ee5"
      },
      "source": [
        "4>=4"
      ],
      "execution_count": 59,
      "outputs": [
        {
          "output_type": "execute_result",
          "data": {
            "text/plain": [
              "True"
            ]
          },
          "metadata": {},
          "execution_count": 59
        }
      ]
    },
    {
      "cell_type": "code",
      "metadata": {
        "id": "_ut1D_XhL5oc",
        "colab": {
          "base_uri": "https://localhost:8080/"
        },
        "outputId": "23240adb-6809-4ca2-d5df-ab97364b77f8"
      },
      "source": [
        "4 != 5"
      ],
      "execution_count": 60,
      "outputs": [
        {
          "output_type": "execute_result",
          "data": {
            "text/plain": [
              "True"
            ]
          },
          "metadata": {},
          "execution_count": 60
        }
      ]
    },
    {
      "cell_type": "code",
      "metadata": {
        "id": "KuLTFPB2L5of",
        "colab": {
          "base_uri": "https://localhost:8080/"
        },
        "outputId": "f4054504-51b4-473c-a0fe-83f947e8c188"
      },
      "source": [
        "a = 8\n",
        "b = 4\n",
        "\n",
        "outcome = a == b*2\n",
        "print(outcome)"
      ],
      "execution_count": 61,
      "outputs": [
        {
          "output_type": "stream",
          "name": "stdout",
          "text": [
            "True\n"
          ]
        }
      ]
    },
    {
      "cell_type": "code",
      "metadata": {
        "id": "SstZFpeML5oj",
        "colab": {
          "base_uri": "https://localhost:8080/"
        },
        "outputId": "7dfa717e-be2a-4c0a-820d-69598058395a"
      },
      "source": [
        "# conjunctive comparisons\n",
        "14>5 and 7<10\n"
      ],
      "execution_count": 62,
      "outputs": [
        {
          "output_type": "execute_result",
          "data": {
            "text/plain": [
              "True"
            ]
          },
          "metadata": {},
          "execution_count": 62
        }
      ]
    },
    {
      "cell_type": "code",
      "metadata": {
        "id": "_fpA01iAL5on",
        "colab": {
          "base_uri": "https://localhost:8080/"
        },
        "outputId": "86e5c43b-c63d-4cb4-b0dc-57cce879dd9c"
      },
      "source": [
        "14>5 or 7>10"
      ],
      "execution_count": 63,
      "outputs": [
        {
          "output_type": "execute_result",
          "data": {
            "text/plain": [
              "True"
            ]
          },
          "metadata": {},
          "execution_count": 63
        }
      ]
    },
    {
      "cell_type": "code",
      "metadata": {
        "id": "mPU25S82L5oq",
        "colab": {
          "base_uri": "https://localhost:8080/"
        },
        "outputId": "191997cd-6ddc-4e9f-902c-d5cbfa926352"
      },
      "source": [
        "# converting to boolean\n",
        "print( bool(0) )\n",
        "print( bool(10) )\n",
        "\n",
        "print(' ')\n",
        "\n",
        "print( bool('asdf') )\n",
        "print( bool(' ') )\n",
        "print( bool('') )"
      ],
      "execution_count": 64,
      "outputs": [
        {
          "output_type": "stream",
          "name": "stdout",
          "text": [
            "False\n",
            "True\n",
            " \n",
            "True\n",
            "True\n",
            "False\n"
          ]
        }
      ]
    },
    {
      "cell_type": "markdown",
      "metadata": {
        "id": "aBiJ7Mv6L5ot"
      },
      "source": [
        "### Exercise"
      ]
    },
    {
      "cell_type": "code",
      "metadata": {
        "id": "oU60HNCBL5ou"
      },
      "source": [
        "# Ask users to input Pythagorean triplet, check whether it's real\n"
      ],
      "execution_count": 65,
      "outputs": []
    },
    {
      "cell_type": "code",
      "metadata": {
        "id": "HkpjxvPcL5oy",
        "colab": {
          "base_uri": "https://localhost:8080/"
        },
        "outputId": "a3bc9ce3-d057-4ebb-c999-688961d5a291"
      },
      "source": [
        "print(\"Let's test your knowledge of Pythagorean triples!\")\n",
        "\n",
        "sidea = float(input('Input length of side a: '))\n",
        "sideb = float(input('Input length of side b: '))\n",
        "\n",
        "hype = round((sidea**2 + sideb**2)**(1/2), 2)\n",
        "print('The length of the hypotenuse is ' + str(hype))\n",
        "\n",
        "\n",
        "\n",
        "\n",
        "\n"
      ],
      "execution_count": 77,
      "outputs": [
        {
          "output_type": "stream",
          "name": "stdout",
          "text": [
            "Let's test your knowledge of Pythagorean triples!\n",
            "Input length of side a: 10\n",
            "Input length of side b: 12\n",
            "The length of the hypotenuse is 15.62\n"
          ]
        }
      ]
    },
    {
      "source": [
        "print(\"Let's test your knowledge of Pythagorean triples!\")\n",
        "\n",
        "sidec = float(input('Input length of side c: ')) # get input for side c\n",
        "# check\n",
        "#isPythTriplet = hype # assign value to isPythTriplet outside print()\n",
        "\n",
        "if sidec== hype:\n",
        "    print('Your anser of the size of the hypotenus is ' + str(sidec) + ' IS CORRECT, '+'Well done!!')\n",
        "else:\n",
        "    print('Your anser of the size of the hypotenus is ' + str(sidec)  + ' unforrtunately IS WRONG'+'!!')\n",
        "    print('The correct answer is ' + str(hype))"
      ],
      "cell_type": "code",
      "metadata": {
        "colab": {
          "base_uri": "https://localhost:8080/"
        },
        "id": "dJ6u9MgYa3n9",
        "outputId": "37c3637e-4cd5-41a3-a38a-cc0b73ecbca6"
      },
      "execution_count": 86,
      "outputs": [
        {
          "output_type": "stream",
          "name": "stdout",
          "text": [
            "Let's test your knowledge of Pythagorean triples!\n",
            "Input length of side c: 15\n",
            "Your anser of the size of the hypotenus is 15.0 unforrtunately IS WRONG!!\n",
            "The correct answer is 15.62\n"
          ]
        }
      ]
    },
    {
      "cell_type": "markdown",
      "metadata": {
        "id": "4A_Io0qcL5o1"
      },
      "source": [
        "# .\n",
        "# .\n",
        "# ."
      ]
    },
    {
      "cell_type": "markdown",
      "metadata": {
        "id": "yhLuxUWCL5o1"
      },
      "source": [
        "# VIDEO: Dictionaries"
      ]
    },
    {
      "cell_type": "code",
      "metadata": {
        "id": "9qypKW37L5o1",
        "colab": {
          "base_uri": "https://localhost:8080/"
        },
        "outputId": "8276008f-ea6a-4e26-a803-e6e1ca0f8a29"
      },
      "source": [
        "D = dict()\n",
        "D"
      ],
      "execution_count": 88,
      "outputs": [
        {
          "output_type": "execute_result",
          "data": {
            "text/plain": [
              "{}"
            ]
          },
          "metadata": {},
          "execution_count": 88
        }
      ]
    },
    {
      "cell_type": "code",
      "metadata": {
        "id": "29lrDJO4L5o4",
        "colab": {
          "base_uri": "https://localhost:8080/"
        },
        "outputId": "26c95f8c-f3bd-4196-c44e-c9dd0690f6c3"
      },
      "source": [
        "D['name'] = 'Mike' # key/value pairs\n",
        "D['AgeRange'] = [20,50]\n",
        "\n",
        "D"
      ],
      "execution_count": 89,
      "outputs": [
        {
          "output_type": "execute_result",
          "data": {
            "text/plain": [
              "{'name': 'Mike', 'AgeRange': [20, 50]}"
            ]
          },
          "metadata": {},
          "execution_count": 89
        }
      ]
    },
    {
      "cell_type": "code",
      "metadata": {
        "id": "2vQTkR1jL5o8",
        "colab": {
          "base_uri": "https://localhost:8080/"
        },
        "outputId": "23c6a9a6-4c17-4761-bdf3-ec218bab56ac"
      },
      "source": [
        "D = {'name':'Mike' , 'AgeRange':[20,50]}\n",
        "\n",
        "D"
      ],
      "execution_count": 90,
      "outputs": [
        {
          "output_type": "execute_result",
          "data": {
            "text/plain": [
              "{'name': 'Mike', 'AgeRange': [20, 50]}"
            ]
          },
          "metadata": {},
          "execution_count": 90
        }
      ]
    },
    {
      "cell_type": "code",
      "metadata": {
        "id": "d6dNyySIL5o-",
        "colab": {
          "base_uri": "https://localhost:8080/",
          "height": 35
        },
        "outputId": "f5648da3-7e5b-48a5-f37d-0814e7849b54"
      },
      "source": [
        "# retrieve one item\n",
        "D['name']"
      ],
      "execution_count": 91,
      "outputs": [
        {
          "output_type": "execute_result",
          "data": {
            "text/plain": [
              "'Mike'"
            ],
            "application/vnd.google.colaboratory.intrinsic+json": {
              "type": "string"
            }
          },
          "metadata": {},
          "execution_count": 91
        }
      ]
    },
    {
      "cell_type": "code",
      "metadata": {
        "id": "ZNkdexckL5pC",
        "colab": {
          "base_uri": "https://localhost:8080/"
        },
        "outputId": "b5cd5e13-8cae-4414-9264-fba9ea732d8f"
      },
      "source": [
        "# list all properties\n",
        "D.keys()"
      ],
      "execution_count": 92,
      "outputs": [
        {
          "output_type": "execute_result",
          "data": {
            "text/plain": [
              "dict_keys(['name', 'AgeRange'])"
            ]
          },
          "metadata": {},
          "execution_count": 92
        }
      ]
    },
    {
      "cell_type": "code",
      "metadata": {
        "id": "WljlOT1eL5pE",
        "colab": {
          "base_uri": "https://localhost:8080/"
        },
        "outputId": "f635d5c3-f6d2-4b20-f6f7-1d5a82bdbafb"
      },
      "source": [
        "# test whether a key is in the dictionary\n",
        "'name' in D"
      ],
      "execution_count": 93,
      "outputs": [
        {
          "output_type": "execute_result",
          "data": {
            "text/plain": [
              "True"
            ]
          },
          "metadata": {},
          "execution_count": 93
        }
      ]
    },
    {
      "cell_type": "code",
      "metadata": {
        "id": "U4LoqZJLL5pH",
        "colab": {
          "base_uri": "https://localhost:8080/"
        },
        "outputId": "8285ec33-cc54-4b4c-f06e-d11a16af5e27"
      },
      "source": [
        "'Mike' in D"
      ],
      "execution_count": 94,
      "outputs": [
        {
          "output_type": "execute_result",
          "data": {
            "text/plain": [
              "False"
            ]
          },
          "metadata": {},
          "execution_count": 94
        }
      ]
    },
    {
      "cell_type": "code",
      "metadata": {
        "id": "kVhLa6ptL5pK",
        "colab": {
          "base_uri": "https://localhost:8080/"
        },
        "outputId": "74c1ab9c-c2b2-4e26-bc55-bf2cf150f343"
      },
      "source": [
        "'Mike' not in D"
      ],
      "execution_count": 95,
      "outputs": [
        {
          "output_type": "execute_result",
          "data": {
            "text/plain": [
              "True"
            ]
          },
          "metadata": {},
          "execution_count": 95
        }
      ]
    },
    {
      "cell_type": "code",
      "metadata": {
        "id": "Xx391eR-L5pM",
        "colab": {
          "base_uri": "https://localhost:8080/"
        },
        "outputId": "da900997-a022-49dd-b19a-41ce92258c7d"
      },
      "source": [
        "D.values()"
      ],
      "execution_count": 96,
      "outputs": [
        {
          "output_type": "execute_result",
          "data": {
            "text/plain": [
              "dict_values(['Mike', [20, 50]])"
            ]
          },
          "metadata": {},
          "execution_count": 96
        }
      ]
    },
    {
      "cell_type": "code",
      "metadata": {
        "id": "JpjaS5n5L5pO",
        "colab": {
          "base_uri": "https://localhost:8080/"
        },
        "outputId": "4dd875ba-f531-4d56-bb91-08bd0da43422"
      },
      "source": [
        "D.items()"
      ],
      "execution_count": 97,
      "outputs": [
        {
          "output_type": "execute_result",
          "data": {
            "text/plain": [
              "dict_items([('name', 'Mike'), ('AgeRange', [20, 50])])"
            ]
          },
          "metadata": {},
          "execution_count": 97
        }
      ]
    },
    {
      "cell_type": "markdown",
      "metadata": {
        "id": "6LXMsy5xL5pQ"
      },
      "source": [
        "### Exercise"
      ]
    },
    {
      "cell_type": "code",
      "metadata": {
        "id": "_YrZuSS6L5pR"
      },
      "source": [
        "# Input two numbers from the user.\n",
        "# Create a dictionary with keys 'firstNum', 'secondNum', and 'product'"
      ],
      "execution_count": 98,
      "outputs": []
    },
    {
      "cell_type": "code",
      "metadata": {
        "id": "KLmXrVllL5pT",
        "colab": {
          "base_uri": "https://localhost:8080/"
        },
        "outputId": "973a9eb1-70aa-453d-a06b-ee697a5804ec"
      },
      "source": [
        "del D\n",
        "D = dict()\n",
        "\n",
        "num1 = float(input('Give me a number '))\n",
        "D['FirstNum'] = num1\n",
        "\n",
        "num2 = float(input('Give me another number '))\n",
        "D['SecondNum'] = num2\n",
        "\n",
        "D['Product'] = num1*num2\n",
        "\n",
        "D.items()"
      ],
      "execution_count": 100,
      "outputs": [
        {
          "name": "stdout",
          "output_type": "stream",
          "text": [
            "Give me a number 10\n",
            "Give me another number 20\n"
          ]
        },
        {
          "output_type": "execute_result",
          "data": {
            "text/plain": [
              "dict_items([('FirstNum', 10.0), ('SecondNum', 20.0), ('Product', 200.0)])"
            ]
          },
          "metadata": {},
          "execution_count": 100
        }
      ]
    }
  ]
}